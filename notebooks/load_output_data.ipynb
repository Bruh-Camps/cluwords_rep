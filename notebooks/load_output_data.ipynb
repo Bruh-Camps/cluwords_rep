{
 "cells": [
  {
   "cell_type": "code",
   "execution_count": 10,
   "metadata": {},
   "outputs": [],
   "source": [
    "import pandas as pd\n",
    "import numpy as np\n",
    "from scipy.sparse import load_npz "
   ]
  },
  {
   "cell_type": "markdown",
   "metadata": {},
   "source": [
    "Reading input queries"
   ]
  },
  {
   "cell_type": "code",
   "execution_count": 2,
   "metadata": {},
   "outputs": [
    {
     "data": {
      "text/html": [
       "<div>\n",
       "<style scoped>\n",
       "    .dataframe tbody tr th:only-of-type {\n",
       "        vertical-align: middle;\n",
       "    }\n",
       "\n",
       "    .dataframe tbody tr th {\n",
       "        vertical-align: top;\n",
       "    }\n",
       "\n",
       "    .dataframe thead th {\n",
       "        text-align: right;\n",
       "    }\n",
       "</style>\n",
       "<table border=\"1\" class=\"dataframe\">\n",
       "  <thead>\n",
       "    <tr style=\"text-align: right;\">\n",
       "      <th></th>\n",
       "      <th>query_id</th>\n",
       "      <th>text</th>\n",
       "    </tr>\n",
       "  </thead>\n",
       "  <tbody>\n",
       "    <tr>\n",
       "      <th>0</th>\n",
       "      <td>156493</td>\n",
       "      <td>do goldfish grow</td>\n",
       "    </tr>\n",
       "    <tr>\n",
       "      <th>1</th>\n",
       "      <td>1110199</td>\n",
       "      <td>what is wifi vs bluetooth</td>\n",
       "    </tr>\n",
       "    <tr>\n",
       "      <th>2</th>\n",
       "      <td>1063750</td>\n",
       "      <td>why did the us volunterilay enter ww1</td>\n",
       "    </tr>\n",
       "    <tr>\n",
       "      <th>3</th>\n",
       "      <td>130510</td>\n",
       "      <td>definition declaratory judgment</td>\n",
       "    </tr>\n",
       "  </tbody>\n",
       "</table>\n",
       "</div>"
      ],
      "text/plain": [
       "   query_id                                   text\n",
       "0    156493                       do goldfish grow\n",
       "1   1110199              what is wifi vs bluetooth\n",
       "2   1063750  why did the us volunterilay enter ww1\n",
       "3    130510        definition declaratory judgment"
      ]
     },
     "execution_count": 2,
     "metadata": {},
     "output_type": "execute_result"
    }
   ],
   "source": [
    "queries = pd.read_csv(\"..\\\\data\\\\queries_samples.csv\")\n",
    "\n",
    "queries.head(4)"
   ]
  },
  {
   "cell_type": "markdown",
   "metadata": {},
   "source": [
    "Reading output data"
   ]
  },
  {
   "cell_type": "code",
   "execution_count": 3,
   "metadata": {},
   "outputs": [],
   "source": [
    "thresh = \"1.0\"\n",
    "data_path = f\"..\\\\data_output\\\\queries_thresh_{thresh}_pos.parquet\"\n",
    "cw_repr_path = f\"..\\\\data_output\\\\cw_thresh_{thresh}_pos.npz\""
   ]
  },
  {
   "cell_type": "code",
   "execution_count": 4,
   "metadata": {},
   "outputs": [],
   "source": [
    "data_df = pd.read_parquet(data_path)\n",
    "data_df[\"expaded_words\"] = data_df.apply(lambda row: set(row.cluwords_textual_repr).difference(set(row.text)), axis=1)\n",
    "data_df[\"n_expanded_words\"] = data_df[\"expaded_words\"].apply(len)\n",
    "data_df = queries.merge(data_df, on=\"query_id\", suffixes=(\"_raw\", \"_cw\"))"
   ]
  },
  {
   "cell_type": "code",
   "execution_count": 6,
   "metadata": {},
   "outputs": [
    {
     "data": {
      "text/html": [
       "<div>\n",
       "<style scoped>\n",
       "    .dataframe tbody tr th:only-of-type {\n",
       "        vertical-align: middle;\n",
       "    }\n",
       "\n",
       "    .dataframe tbody tr th {\n",
       "        vertical-align: top;\n",
       "    }\n",
       "\n",
       "    .dataframe thead th {\n",
       "        text-align: right;\n",
       "    }\n",
       "</style>\n",
       "<table border=\"1\" class=\"dataframe\">\n",
       "  <thead>\n",
       "    <tr style=\"text-align: right;\">\n",
       "      <th></th>\n",
       "      <th>query_id</th>\n",
       "      <th>text_raw</th>\n",
       "      <th>text_cw</th>\n",
       "      <th>cluwords_textual_repr</th>\n",
       "      <th>cluwords_repr</th>\n",
       "      <th>expaded_words</th>\n",
       "      <th>n_expanded_words</th>\n",
       "    </tr>\n",
       "  </thead>\n",
       "  <tbody>\n",
       "    <tr>\n",
       "      <th>0</th>\n",
       "      <td>156493</td>\n",
       "      <td>do goldfish grow</td>\n",
       "      <td>[do, goldfish, grow]</td>\n",
       "      <td>[goldfish, grow, do]</td>\n",
       "      <td>[0.0, 0.0, 0.0, 0.0, 0.0, 0.0, 0.0, 0.0, 0.0, ...</td>\n",
       "      <td>{}</td>\n",
       "      <td>0</td>\n",
       "    </tr>\n",
       "    <tr>\n",
       "      <th>1</th>\n",
       "      <td>1110199</td>\n",
       "      <td>what is wifi vs bluetooth</td>\n",
       "      <td>[what, is, wifi, vs, bluetooth]</td>\n",
       "      <td>[wifi, what, is, vs, bluetooth]</td>\n",
       "      <td>[0.0, 0.0, 0.0, 0.0, 0.0, 0.0, 0.0, 0.0, 0.0, ...</td>\n",
       "      <td>{}</td>\n",
       "      <td>0</td>\n",
       "    </tr>\n",
       "    <tr>\n",
       "      <th>2</th>\n",
       "      <td>1063750</td>\n",
       "      <td>why did the us volunterilay enter ww1</td>\n",
       "      <td>[why, did, the, us, volunterilay, enter, ww1]</td>\n",
       "      <td>[ww1, did, enter, the, us, why]</td>\n",
       "      <td>[0.0, 0.0, 0.0, 0.0, 0.0, 0.0, 0.0, 0.0, 0.0, ...</td>\n",
       "      <td>{}</td>\n",
       "      <td>0</td>\n",
       "    </tr>\n",
       "    <tr>\n",
       "      <th>3</th>\n",
       "      <td>130510</td>\n",
       "      <td>definition declaratory judgment</td>\n",
       "      <td>[definition, declaratory, judgment]</td>\n",
       "      <td>[definition, declaratory, judgment]</td>\n",
       "      <td>[0.0, 0.0, 0.0, 0.0, 0.0, 0.0, 0.0, 0.0, 0.0, ...</td>\n",
       "      <td>{}</td>\n",
       "      <td>0</td>\n",
       "    </tr>\n",
       "    <tr>\n",
       "      <th>4</th>\n",
       "      <td>489204</td>\n",
       "      <td>right pelvic pain causes</td>\n",
       "      <td>[right, pelvic, pain, causes]</td>\n",
       "      <td>[causes, pelvic, pain, right]</td>\n",
       "      <td>[0.0, 0.0, 0.0, 0.0, 0.0, 0.0, 0.0, 0.0, 0.0, ...</td>\n",
       "      <td>{}</td>\n",
       "      <td>0</td>\n",
       "    </tr>\n",
       "  </tbody>\n",
       "</table>\n",
       "</div>"
      ],
      "text/plain": [
       "   query_id                               text_raw  \\\n",
       "0    156493                       do goldfish grow   \n",
       "1   1110199              what is wifi vs bluetooth   \n",
       "2   1063750  why did the us volunterilay enter ww1   \n",
       "3    130510        definition declaratory judgment   \n",
       "4    489204               right pelvic pain causes   \n",
       "\n",
       "                                         text_cw  \\\n",
       "0                           [do, goldfish, grow]   \n",
       "1                [what, is, wifi, vs, bluetooth]   \n",
       "2  [why, did, the, us, volunterilay, enter, ww1]   \n",
       "3            [definition, declaratory, judgment]   \n",
       "4                  [right, pelvic, pain, causes]   \n",
       "\n",
       "                 cluwords_textual_repr  \\\n",
       "0                 [goldfish, grow, do]   \n",
       "1      [wifi, what, is, vs, bluetooth]   \n",
       "2      [ww1, did, enter, the, us, why]   \n",
       "3  [definition, declaratory, judgment]   \n",
       "4        [causes, pelvic, pain, right]   \n",
       "\n",
       "                                       cluwords_repr expaded_words  \\\n",
       "0  [0.0, 0.0, 0.0, 0.0, 0.0, 0.0, 0.0, 0.0, 0.0, ...            {}   \n",
       "1  [0.0, 0.0, 0.0, 0.0, 0.0, 0.0, 0.0, 0.0, 0.0, ...            {}   \n",
       "2  [0.0, 0.0, 0.0, 0.0, 0.0, 0.0, 0.0, 0.0, 0.0, ...            {}   \n",
       "3  [0.0, 0.0, 0.0, 0.0, 0.0, 0.0, 0.0, 0.0, 0.0, ...            {}   \n",
       "4  [0.0, 0.0, 0.0, 0.0, 0.0, 0.0, 0.0, 0.0, 0.0, ...            {}   \n",
       "\n",
       "   n_expanded_words  \n",
       "0                 0  \n",
       "1                 0  \n",
       "2                 0  \n",
       "3                 0  \n",
       "4                 0  "
      ]
     },
     "execution_count": 6,
     "metadata": {},
     "output_type": "execute_result"
    }
   ],
   "source": [
    "data_df.head(5)"
   ]
  },
  {
   "cell_type": "markdown",
   "metadata": {},
   "source": [
    "Check if two matrices are equal"
   ]
  },
  {
   "cell_type": "code",
   "execution_count": 13,
   "metadata": {},
   "outputs": [
    {
     "data": {
      "text/plain": [
       "(43, 9390)"
      ]
     },
     "execution_count": 13,
     "metadata": {},
     "output_type": "execute_result"
    }
   ],
   "source": [
    "cw_csr_matrix = load_npz(cw_repr_path)\n",
    "cw_csr_matrix.shape"
   ]
  },
  {
   "cell_type": "code",
   "execution_count": 14,
   "metadata": {},
   "outputs": [
    {
     "data": {
      "text/plain": [
       "(43, 9390)"
      ]
     },
     "execution_count": 14,
     "metadata": {},
     "output_type": "execute_result"
    }
   ],
   "source": [
    "cw_np_matrix = np.asarray([cw for cw in data_df[\"cluwords_repr\"].tolist()])\n",
    "cw_np_matrix.shape"
   ]
  },
  {
   "cell_type": "code",
   "execution_count": 16,
   "metadata": {},
   "outputs": [
    {
     "data": {
      "text/plain": [
       "True"
      ]
     },
     "execution_count": 16,
     "metadata": {},
     "output_type": "execute_result"
    }
   ],
   "source": [
    "bool_answer = np.array_equal(cw_csr_matrix.todense(), cw_np_matrix)\n",
    "\n",
    "bool_answer"
   ]
  },
  {
   "cell_type": "markdown",
   "metadata": {},
   "source": [
    "Checking Textual information"
   ]
  },
  {
   "cell_type": "code",
   "execution_count": 52,
   "metadata": {},
   "outputs": [
    {
     "data": {
      "text/html": [
       "<div>\n",
       "<style scoped>\n",
       "    .dataframe tbody tr th:only-of-type {\n",
       "        vertical-align: middle;\n",
       "    }\n",
       "\n",
       "    .dataframe tbody tr th {\n",
       "        vertical-align: top;\n",
       "    }\n",
       "\n",
       "    .dataframe thead th {\n",
       "        text-align: right;\n",
       "    }\n",
       "</style>\n",
       "<table border=\"1\" class=\"dataframe\">\n",
       "  <thead>\n",
       "    <tr style=\"text-align: right;\">\n",
       "      <th></th>\n",
       "      <th>text_raw</th>\n",
       "      <th>expaded_words</th>\n",
       "    </tr>\n",
       "  </thead>\n",
       "  <tbody>\n",
       "    <tr>\n",
       "      <th>0</th>\n",
       "      <td>do goldfish grow</td>\n",
       "      <td>{bowl, pets, aquarium, carp, fishes, aquariums...</td>\n",
       "    </tr>\n",
       "    <tr>\n",
       "      <th>1</th>\n",
       "      <td>what is wifi vs bluetooth</td>\n",
       "      <td>{phones, e.g., eg, wireless, non, router, cord...</td>\n",
       "    </tr>\n",
       "    <tr>\n",
       "      <th>2</th>\n",
       "      <td>why did the us volunterilay enter ww1</td>\n",
       "      <td>{soviet, budapest, armenia, europeans, germany...</td>\n",
       "    </tr>\n",
       "    <tr>\n",
       "      <th>3</th>\n",
       "      <td>definition declaratory judgment</td>\n",
       "      <td>{analysis, clarification, parlance, perception...</td>\n",
       "    </tr>\n",
       "    <tr>\n",
       "      <th>4</th>\n",
       "      <td>right pelvic pain causes</td>\n",
       "      <td>{irritation, comfort, uncertainty, injustice, ...</td>\n",
       "    </tr>\n",
       "    <tr>\n",
       "      <th>5</th>\n",
       "      <td>what are the social determinants of health</td>\n",
       "      <td>{dietary, law, humanitarian, medicines, psycho...</td>\n",
       "    </tr>\n",
       "    <tr>\n",
       "      <th>6</th>\n",
       "      <td>does legionella pneumophila cause pneumonia</td>\n",
       "      <td>{penciclovir, peritonitis, diverticular, artem...</td>\n",
       "    </tr>\n",
       "    <tr>\n",
       "      <th>7</th>\n",
       "      <td>how is the weather in jamaica</td>\n",
       "      <td>{dublin, chinatown, elizabeth, topography, rai...</td>\n",
       "    </tr>\n",
       "    <tr>\n",
       "      <th>8</th>\n",
       "      <td>types of dysarthria from cerebral palsy</td>\n",
       "      <td>{different, vehicles, locations, sections, hem...</td>\n",
       "    </tr>\n",
       "    <tr>\n",
       "      <th>9</th>\n",
       "      <td>who is robert gray</td>\n",
       "      <td>{parker, george, leon, orange, wesley, catheri...</td>\n",
       "    </tr>\n",
       "    <tr>\n",
       "      <th>10</th>\n",
       "      <td>what types of food can you cook sous vide</td>\n",
       "      <td>{different, clothes, corn, beef, varieties, th...</td>\n",
       "    </tr>\n",
       "    <tr>\n",
       "      <th>11</th>\n",
       "      <td>how long is life cycle of flea</td>\n",
       "      <td>{humanity, regular, everyday, quick, convictio...</td>\n",
       "    </tr>\n",
       "    <tr>\n",
       "      <th>12</th>\n",
       "      <td>what can contour plowing reduce</td>\n",
       "      <td>{mapping, shapes, topography, line, contours, ...</td>\n",
       "    </tr>\n",
       "    <tr>\n",
       "      <th>13</th>\n",
       "      <td>when was the salvation army founded</td>\n",
       "      <td>{lieutenant, humanity, law, vehicles, revoluti...</td>\n",
       "    </tr>\n",
       "    <tr>\n",
       "      <th>14</th>\n",
       "      <td>what is a active margin</td>\n",
       "      <td>{productive, victory, ongoing, regular, succes...</td>\n",
       "    </tr>\n",
       "    <tr>\n",
       "      <th>15</th>\n",
       "      <td>difference between rn and bsn</td>\n",
       "      <td>{imc, memb, similarities, henri, advantage, ga...</td>\n",
       "    </tr>\n",
       "    <tr>\n",
       "      <th>16</th>\n",
       "      <td>medicare s definition of mechanical ventilation</td>\n",
       "      <td>{metal, parlance, meanings, description, techn...</td>\n",
       "    </tr>\n",
       "    <tr>\n",
       "      <th>17</th>\n",
       "      <td>how to find the midsegment of a trapezoid</td>\n",
       "      <td>{triangle, rhombus, trapezoids, parallelogram,...</td>\n",
       "    </tr>\n",
       "    <tr>\n",
       "      <th>18</th>\n",
       "      <td>what is an aml surveillance analyst</td>\n",
       "      <td>{investigations, supervision, analysts, analys...</td>\n",
       "    </tr>\n",
       "    <tr>\n",
       "      <th>19</th>\n",
       "      <td>what is the daily life of thai people</td>\n",
       "      <td>{week, cows, everyday, participants, thailand,...</td>\n",
       "    </tr>\n",
       "  </tbody>\n",
       "</table>\n",
       "</div>"
      ],
      "text/plain": [
       "                                           text_raw  \\\n",
       "0                                  do goldfish grow   \n",
       "1                         what is wifi vs bluetooth   \n",
       "2             why did the us volunterilay enter ww1   \n",
       "3                   definition declaratory judgment   \n",
       "4                          right pelvic pain causes   \n",
       "5        what are the social determinants of health   \n",
       "6       does legionella pneumophila cause pneumonia   \n",
       "7                     how is the weather in jamaica   \n",
       "8           types of dysarthria from cerebral palsy   \n",
       "9                                who is robert gray   \n",
       "10        what types of food can you cook sous vide   \n",
       "11                   how long is life cycle of flea   \n",
       "12                  what can contour plowing reduce   \n",
       "13              when was the salvation army founded   \n",
       "14                          what is a active margin   \n",
       "15                    difference between rn and bsn   \n",
       "16  medicare s definition of mechanical ventilation   \n",
       "17        how to find the midsegment of a trapezoid   \n",
       "18              what is an aml surveillance analyst   \n",
       "19            what is the daily life of thai people   \n",
       "\n",
       "                                        expaded_words  \n",
       "0   {bowl, pets, aquarium, carp, fishes, aquariums...  \n",
       "1   {phones, e.g., eg, wireless, non, router, cord...  \n",
       "2   {soviet, budapest, armenia, europeans, germany...  \n",
       "3   {analysis, clarification, parlance, perception...  \n",
       "4   {irritation, comfort, uncertainty, injustice, ...  \n",
       "5   {dietary, law, humanitarian, medicines, psycho...  \n",
       "6   {penciclovir, peritonitis, diverticular, artem...  \n",
       "7   {dublin, chinatown, elizabeth, topography, rai...  \n",
       "8   {different, vehicles, locations, sections, hem...  \n",
       "9   {parker, george, leon, orange, wesley, catheri...  \n",
       "10  {different, clothes, corn, beef, varieties, th...  \n",
       "11  {humanity, regular, everyday, quick, convictio...  \n",
       "12  {mapping, shapes, topography, line, contours, ...  \n",
       "13  {lieutenant, humanity, law, vehicles, revoluti...  \n",
       "14  {productive, victory, ongoing, regular, succes...  \n",
       "15  {imc, memb, similarities, henri, advantage, ga...  \n",
       "16  {metal, parlance, meanings, description, techn...  \n",
       "17  {triangle, rhombus, trapezoids, parallelogram,...  \n",
       "18  {investigations, supervision, analysts, analys...  \n",
       "19  {week, cows, everyday, participants, thailand,...  "
      ]
     },
     "execution_count": 52,
     "metadata": {},
     "output_type": "execute_result"
    }
   ],
   "source": [
    "data_df[[\"text_raw\", \"expaded_words\"]].head(20)\n"
   ]
  },
  {
   "cell_type": "markdown",
   "metadata": {},
   "source": [
    "Checking distribution of expandaded words"
   ]
  },
  {
   "cell_type": "code",
   "execution_count": 20,
   "metadata": {},
   "outputs": [
    {
     "data": {
      "text/plain": [
       "<Axes: title={'center': 'Expanded Words - Threshold: 0.5'}, xlabel='n_expanded_words', ylabel='Frequency'>"
      ]
     },
     "execution_count": 20,
     "metadata": {},
     "output_type": "execute_result"
    },
    {
     "data": {
      "image/png": "[encoded data removed]",
      "text/plain": [
       "<Figure size 640x480 with 1 Axes>"
      ]
     },
     "metadata": {},
     "output_type": "display_data"
    }
   ],
   "source": [
    "import matplotlib \n",
    "data_df[\"n_expanded_words\"].value_counts().sort_index(ascending=True).plot.bar(ylabel=\"Frequency\", title=f\"Expanded Words - Threshold: {thresh}\")"
   ]
  }
 ],
 "metadata": {
  "kernelspec": {
   "display_name": "cluwords-5TcCA87J-py3.9",
   "language": "python",
   "name": "python3"
  },
  "language_info": {
   "codemirror_mode": {
    "name": "ipython",
    "version": 3
   },
   "file_extension": ".py",
   "mimetype": "text/x-python",
   "name": "python",
   "nbconvert_exporter": "python",
   "pygments_lexer": "ipython3",
   "version": "3.9.13"
  }
 },
 "nbformat": 4,
 "nbformat_minor": 2
}
