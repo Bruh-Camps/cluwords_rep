{
 "cells": [
  {
   "cell_type": "code",
   "execution_count": 35,
   "metadata": {},
   "outputs": [],
   "source": [
    "import pandas as pd\n",
    "import spacy\n",
    "\n",
    "from sklearn.feature_extraction.text import CountVectorizer"
   ]
  },
  {
   "cell_type": "code",
   "execution_count": 36,
   "metadata": {},
   "outputs": [
    {
     "data": {
      "text/plain": [
       "<spacymoji.Emoji at 0x25a53c9ce80>"
      ]
     },
     "execution_count": 36,
     "metadata": {},
     "output_type": "execute_result"
    }
   ],
   "source": [
    "nlp = spacy.load(\"en_core_web_sm\")\n",
    "nlp.add_pipe(\"emoji\", first=True)"
   ]
  },
  {
   "cell_type": "code",
   "execution_count": 37,
   "metadata": {},
   "outputs": [
    {
     "data": {
      "text/html": [
       "<div>\n",
       "<style scoped>\n",
       "    .dataframe tbody tr th:only-of-type {\n",
       "        vertical-align: middle;\n",
       "    }\n",
       "\n",
       "    .dataframe tbody tr th {\n",
       "        vertical-align: top;\n",
       "    }\n",
       "\n",
       "    .dataframe thead th {\n",
       "        text-align: right;\n",
       "    }\n",
       "</style>\n",
       "<table border=\"1\" class=\"dataframe\">\n",
       "  <thead>\n",
       "    <tr style=\"text-align: right;\">\n",
       "      <th></th>\n",
       "      <th>Unnamed: 0.1</th>\n",
       "      <th>Unnamed: 0</th>\n",
       "      <th>query_id</th>\n",
       "      <th>doc_id</th>\n",
       "      <th>rank</th>\n",
       "      <th>score</th>\n",
       "      <th>text</th>\n",
       "    </tr>\n",
       "  </thead>\n",
       "  <tbody>\n",
       "    <tr>\n",
       "      <th>0</th>\n",
       "      <td>0</td>\n",
       "      <td>0</td>\n",
       "      <td>156493</td>\n",
       "      <td>2928707</td>\n",
       "      <td>0</td>\n",
       "      <td>109.77907</td>\n",
       "      <td>[Goldfish, Only, Grow, to, the, Size, of, Thei...</td>\n",
       "    </tr>\n",
       "    <tr>\n",
       "      <th>1</th>\n",
       "      <td>1</td>\n",
       "      <td>1</td>\n",
       "      <td>156493</td>\n",
       "      <td>8182162</td>\n",
       "      <td>1</td>\n",
       "      <td>109.76814</td>\n",
       "      <td>[Depending, on, his, type, and, his, environme...</td>\n",
       "    </tr>\n",
       "    <tr>\n",
       "      <th>2</th>\n",
       "      <td>2</td>\n",
       "      <td>2</td>\n",
       "      <td>156493</td>\n",
       "      <td>1960257</td>\n",
       "      <td>2</td>\n",
       "      <td>108.87568</td>\n",
       "      <td>[Goldfish, Only, Grow, to, the, Size, of, Thei...</td>\n",
       "    </tr>\n",
       "    <tr>\n",
       "      <th>3</th>\n",
       "      <td>3</td>\n",
       "      <td>3</td>\n",
       "      <td>156493</td>\n",
       "      <td>8182159</td>\n",
       "      <td>3</td>\n",
       "      <td>107.93494</td>\n",
       "      <td>[', Goldfish, usually, grow, with, their, envi...</td>\n",
       "    </tr>\n",
       "    <tr>\n",
       "      <th>4</th>\n",
       "      <td>4</td>\n",
       "      <td>4</td>\n",
       "      <td>156493</td>\n",
       "      <td>8182160</td>\n",
       "      <td>4</td>\n",
       "      <td>107.91983</td>\n",
       "      <td>[The, rate, at, which, your, goldfish, grows, ...</td>\n",
       "    </tr>\n",
       "  </tbody>\n",
       "</table>\n",
       "</div>"
      ],
      "text/plain": [
       "   Unnamed: 0.1  Unnamed: 0  query_id   doc_id  rank      score  \\\n",
       "0             0           0    156493  2928707     0  109.77907   \n",
       "1             1           1    156493  8182162     1  109.76814   \n",
       "2             2           2    156493  1960257     2  108.87568   \n",
       "3             3           3    156493  8182159     3  107.93494   \n",
       "4             4           4    156493  8182160     4  107.91983   \n",
       "\n",
       "                                                text  \n",
       "0  [Goldfish, Only, Grow, to, the, Size, of, Thei...  \n",
       "1  [Depending, on, his, type, and, his, environme...  \n",
       "2  [Goldfish, Only, Grow, to, the, Size, of, Thei...  \n",
       "3  [', Goldfish, usually, grow, with, their, envi...  \n",
       "4  [The, rate, at, which, your, goldfish, grows, ...  "
      ]
     },
     "execution_count": 37,
     "metadata": {},
     "output_type": "execute_result"
    }
   ],
   "source": [
    "data_source = \"..\\\\data\\\\corpus_top50.csv\"\n",
    "\n",
    "data = pd.read_csv(data_source)\n",
    "\n",
    "data['text'] = data['text'].apply(lambda text: [word for word in nlp(text)])\n",
    "\n",
    "data.head(5)"
   ]
  },
  {
   "cell_type": "code",
   "execution_count": 38,
   "metadata": {},
   "outputs": [
    {
     "data": {
      "text/plain": [
       "[[Goldfish,\n",
       "  Only,\n",
       "  Grow,\n",
       "  to,\n",
       "  the,\n",
       "  Size,\n",
       "  of,\n",
       "  Their,\n",
       "  Enclosure,\n",
       "  .,\n",
       "  There,\n",
       "  is,\n",
       "  an,\n",
       "  element,\n",
       "  of,\n",
       "  truth,\n",
       "  to,\n",
       "  this,\n",
       "  ,,\n",
       "  but,\n",
       "  it,\n",
       "  is,\n",
       "  not,\n",
       "  as,\n",
       "  innocent,\n",
       "  as,\n",
       "  it,\n",
       "  sounds,\n",
       "  and,\n",
       "  is,\n",
       "  related,\n",
       "  more,\n",
       "  to,\n",
       "  water,\n",
       "  quality,\n",
       "  than,\n",
       "  tank,\n",
       "  size,\n",
       "  .,\n",
       "  When,\n",
       "  properly,\n",
       "  cared,\n",
       "  for,\n",
       "  ,,\n",
       "  goldfish,\n",
       "  will,\n",
       "  not,\n",
       "  stop,\n",
       "  growing,\n",
       "  .,\n",
       "  Most,\n",
       "  fishes,\n",
       "  are,\n",
       "  in,\n",
       "  fact,\n",
       "  what,\n",
       "  are,\n",
       "  known,\n",
       "  as,\n",
       "  indeterminate,\n",
       "  growers,\n",
       "  .],\n",
       " [Depending,\n",
       "  on,\n",
       "  his,\n",
       "  type,\n",
       "  and,\n",
       "  his,\n",
       "  environment,\n",
       "  ,,\n",
       "  goldfish,\n",
       "  have,\n",
       "  the,\n",
       "  capacity,\n",
       "  to,\n",
       "  grow,\n",
       "  anywhere,\n",
       "  from,\n",
       "  around,\n",
       "  6,\n",
       "  to,\n",
       "  15,\n",
       "  inches,\n",
       "  within,\n",
       "  a,\n",
       "  very,\n",
       "  short,\n",
       "  period,\n",
       "  of,\n",
       "  time,\n",
       "  .,\n",
       "  If,\n",
       "  they,\n",
       "  are,\n",
       "  kept,\n",
       "  in,\n",
       "  tiny,\n",
       "  aquariums,\n",
       "  or,\n",
       "  little,\n",
       "  bowls,\n",
       "  ,,\n",
       "  they,\n",
       "  will,\n",
       "  still,\n",
       "  grow,\n",
       "  ,,\n",
       "  but,\n",
       "  much,\n",
       "  more,\n",
       "  slowly,\n",
       "  .,\n",
       "  Those,\n",
       "  conditions,\n",
       "  are,\n",
       "  somewhat,\n",
       "  cramped,\n",
       "  for,\n",
       "  the,\n",
       "  fish,\n",
       "  and,\n",
       "  that,\n",
       "  will,\n",
       "  show,\n",
       "  in,\n",
       "  ...]]"
      ]
     },
     "execution_count": 38,
     "metadata": {},
     "output_type": "execute_result"
    }
   ],
   "source": [
    "texts = data.text.to_list()\n",
    "texts[:2]"
   ]
  },
  {
   "cell_type": "code",
   "execution_count": 39,
   "metadata": {},
   "outputs": [],
   "source": [
    "vocabulary = set()\n",
    "for doc in texts:\n",
    "    for token in doc:\n",
    "        if token.pos_ not in (\"SYM\", \"PUNCT\", \"X\", \"NUM\"):\n",
    "            vocabulary.add(token.text.lower())\n",
    "\n",
    "vocabulary_pd = pd.Series(list(vocabulary))"
   ]
  },
  {
   "cell_type": "code",
   "execution_count": 40,
   "metadata": {},
   "outputs": [
    {
     "name": "stdout",
     "output_type": "stream",
     "text": [
      "(10817,)\n"
     ]
    },
    {
     "data": {
      "text/plain": [
       "0      serious\n",
       "1      periods\n",
       "2     fumarate\n",
       "3    abundance\n",
       "4     analyzer\n",
       "dtype: object"
      ]
     },
     "execution_count": 40,
     "metadata": {},
     "output_type": "execute_result"
    }
   ],
   "source": [
    "print(vocabulary_pd.shape)\n",
    "vocabulary_pd.head(5)"
   ]
  },
  {
   "cell_type": "code",
   "execution_count": 41,
   "metadata": {},
   "outputs": [],
   "source": [
    "vocabulary_pd.to_csv(\"..\\\\data\\\\vocabulary_corpus_top50.csv\", header=False)"
   ]
  },
  {
   "cell_type": "code",
   "execution_count": 32,
   "metadata": {},
   "outputs": [],
   "source": [
    "vocabulary_pd = pd.read_csv(\"..\\\\data\\\\vocabulary_corpus_top50.csv\", names=[\"word\"])"
   ]
  },
  {
   "cell_type": "code",
   "execution_count": 33,
   "metadata": {},
   "outputs": [
    {
     "data": {
      "text/html": [
       "<div>\n",
       "<style scoped>\n",
       "    .dataframe tbody tr th:only-of-type {\n",
       "        vertical-align: middle;\n",
       "    }\n",
       "\n",
       "    .dataframe tbody tr th {\n",
       "        vertical-align: top;\n",
       "    }\n",
       "\n",
       "    .dataframe thead th {\n",
       "        text-align: right;\n",
       "    }\n",
       "</style>\n",
       "<table border=\"1\" class=\"dataframe\">\n",
       "  <thead>\n",
       "    <tr style=\"text-align: right;\">\n",
       "      <th></th>\n",
       "      <th>word</th>\n",
       "    </tr>\n",
       "  </thead>\n",
       "  <tbody>\n",
       "    <tr>\n",
       "      <th>0</th>\n",
       "      <td>Jasper</td>\n",
       "    </tr>\n",
       "    <tr>\n",
       "      <th>1</th>\n",
       "      <td>-RN</td>\n",
       "    </tr>\n",
       "    <tr>\n",
       "      <th>2</th>\n",
       "      <td>serious</td>\n",
       "    </tr>\n",
       "    <tr>\n",
       "      <th>3</th>\n",
       "      <td>periods</td>\n",
       "    </tr>\n",
       "    <tr>\n",
       "      <th>4</th>\n",
       "      <td>fumarate</td>\n",
       "    </tr>\n",
       "  </tbody>\n",
       "</table>\n",
       "</div>"
      ],
      "text/plain": [
       "       word\n",
       "0    Jasper\n",
       "1       -RN\n",
       "2   serious\n",
       "3   periods\n",
       "4  fumarate"
      ]
     },
     "execution_count": 33,
     "metadata": {},
     "output_type": "execute_result"
    }
   ],
   "source": [
    "vocabulary_pd.head(5)"
   ]
  },
  {
   "cell_type": "code",
   "execution_count": 34,
   "metadata": {},
   "outputs": [
    {
     "data": {
      "text/plain": [
       "'Jasper'"
      ]
     },
     "execution_count": 34,
     "metadata": {},
     "output_type": "execute_result"
    }
   ],
   "source": [
    "vocabulary_pd.word.to_list()[0]"
   ]
  }
 ],
 "metadata": {
  "kernelspec": {
   "display_name": "cluwords-5TcCA87J-py3.9",
   "language": "python",
   "name": "python3"
  },
  "language_info": {
   "codemirror_mode": {
    "name": "ipython",
    "version": 3
   },
   "file_extension": ".py",
   "mimetype": "text/x-python",
   "name": "python",
   "nbconvert_exporter": "python",
   "pygments_lexer": "ipython3",
   "version": "3.9.13"
  }
 },
 "nbformat": 4,
 "nbformat_minor": 2
}
